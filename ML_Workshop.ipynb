{
  "nbformat": 4,
  "nbformat_minor": 0,
  "metadata": {
    "colab": {
      "name": "Copy of ML-Workshop-Python.ipynb",
      "provenance": [],
      "collapsed_sections": [],
      "toc_visible": true,
      "include_colab_link": true
    },
    "kernelspec": {
      "name": "python3",
      "display_name": "Python 3"
    }
  },
  "cells": [
    {
      "cell_type": "markdown",
      "metadata": {
        "id": "view-in-github",
        "colab_type": "text"
      },
      "source": [
        "<a href=\"https://colab.research.google.com/github/kzahedi/ML-Workshop/blob/master/ML_Workshop.ipynb\" target=\"_parent\"><img src=\"https://colab.research.google.com/assets/colab-badge.svg\" alt=\"Open In Colab\"/></a>"
      ]
    },
    {
      "cell_type": "markdown",
      "metadata": {
        "id": "rOstZlDZHBtQ",
        "colab_type": "text"
      },
      "source": [
        "# Einleitung"
      ]
    },
    {
      "cell_type": "markdown",
      "metadata": {
        "id": "lNIMFKL0hqOt",
        "colab_type": "text"
      },
      "source": [
        "Dies ist ein jpuyter notebook. Jupyter notebooks erlauben die Kombination von Code, graphischer Ausgabe (Plots) und Dokumentation. Jupyter sind sehr beliebt für das Prototyping und werden zunehmend wichtiger.\n",
        "\n",
        "Ein Jupyter Notebook besteht aus Zellen, die einzelnd ausgeführt werden können. Zellen, in denen Programmcode ausgeführt werden kann sind farbig.\n",
        "\n",
        "Sie können mit SHIFT-Enter ausgeführt werden."
      ]
    },
    {
      "cell_type": "markdown",
      "metadata": {
        "id": "yibCT6brxGtw",
        "colab_type": "text"
      },
      "source": [
        "# Initialisierung"
      ]
    },
    {
      "cell_type": "markdown",
      "metadata": {
        "id": "yNkWN_csxOMR",
        "colab_type": "text"
      },
      "source": [
        "Die nächte Zelle beinhaltet Programmcode zur Initialiserung. Es werden fehlende Funktionalität installiert (!pip ...) und benötigte Funktionalität geladen (import ...).\n",
        "\n",
        "* *!pip install pyreadr* installiert Funktionalität, die zum Laden der Daten benötigt wird.\n",
        "\n",
        "* *!pip install bokeh* installiert Funktionalität, die zum Erzeugen von Grafiken benötigt wird.\n",
        "\n",
        "* *import pandas as pd* Pandas ist die Standardbibliothek zum Verwalten von Daten in Python. Hier wird sie unter dem Namen *pd* eingebunden.\n",
        "\n",
        "* *import numpy as np* Numpy ist eine sehr mächtige Bibliothek für Matrizen-Berechnungen. Die Funktionen in numpy sind sehr effizient implementiert. Numpy wird hier unter dem Namen *np* eingebunden.\n",
        "\n",
        "* *import pyreadr* Preardy enthält Funktionalität um das Datenformat zu lesen, das die Sprache R verwendet\n",
        "\n",
        "* *import math* Math enthält mathematische Funktionen, wie z.B. Sinus (math.sin), Cosinus (math.cos), et.c\n",
        "\n",
        "Die folgenden 3 import-Statement binden Funktionalität ein, die zum Visualisieren von Daten benötiogt wird.\n",
        "\n",
        "* *from bokeh.plotting import figure, show, ColumnDataSource*\n",
        "\n",
        "* *from bokeh.io import output_notebook*\n",
        "\n",
        "* *from bokeh.sampledata.iris import flowers*\n",
        "\n",
        "* *from google.colab import drive*\n",
        "\n",
        "\n",
        "\n"
      ]
    },
    {
      "cell_type": "code",
      "metadata": {
        "id": "PZz5ORncckxg",
        "colab_type": "code",
        "colab": {}
      },
      "source": [
        "!pip install pyreadr\n",
        "!pip install bokeh\n",
        "\n",
        "import pandas as pd\n",
        "import numpy as np\n",
        "import pyreadr\n",
        "import math\n",
        "from bokeh.plotting import figure, show, ColumnDataSource\n",
        "from bokeh.io import output_notebook\n",
        "from bokeh.sampledata.iris import flowers\n",
        "from google.colab import drive\n",
        "\n",
        "drive.mount('/gdrive')\n",
        "output_notebook()"
      ],
      "execution_count": 0,
      "outputs": []
    },
    {
      "cell_type": "markdown",
      "metadata": {
        "id": "RuvA6Vt6muSL",
        "colab_type": "text"
      },
      "source": [
        "# Daten laden und anschauen"
      ]
    },
    {
      "cell_type": "markdown",
      "metadata": {
        "id": "C50FYh2BjPKf",
        "colab_type": "text"
      },
      "source": [
        "In der folgenden Zelle werden die Daten geladen, die im Folgenden für die Analyse und das Machine Learning verwendet werden. Income sind die Einkommensdaten und Transaction sind die Finanzbetrugsdaten.\n",
        "\n",
        "*pyreadr.read_r* ruft die Funktion *read_r* aus der Bibliothek *pyreadr* auf. read_r liesst eine R-Datei ein und gibt ein Pandas-DataFrame zurück. Dieses wird in den Variale Transakionsdaten, bzw. Einkommensdaten gespeichert. Ein DataFrame ist vergleichbar mit eine Excel-Tabelle. Weiter unten werden wir die DatenFrames der Einkommensdaten und der Transaktionsdaten genauer anschauen.\n"
      ]
    },
    {
      "cell_type": "code",
      "metadata": {
        "id": "p-9q-5WCtsbp",
        "colab_type": "code",
        "colab": {}
      },
      "source": [
        "Transaktionsdaten = pyreadr.read_r('/gdrive/My Drive/ML-Workshop/transactions2.RData')['transactions2']\n",
        "Einkommensdaten = pyreadr.read_r('/gdrive/My Drive/ML-Workshop/income2.RData')['inc']"
      ],
      "execution_count": 0,
      "outputs": []
    },
    {
      "cell_type": "markdown",
      "metadata": {
        "id": "TWm_LN4pkFje",
        "colab_type": "text"
      },
      "source": [
        "Mit der Funktion *type* können wir uns den Datentyp einer Variable anschauen. Wir sehen, dass der Einkommendaten ein DataFrame aus der Bibliothek pandas ist."
      ]
    },
    {
      "cell_type": "code",
      "metadata": {
        "id": "Yps8S6f5Zx1_",
        "colab_type": "code",
        "colab": {}
      },
      "source": [
        "type(Einkommensdaten)"
      ],
      "execution_count": 0,
      "outputs": []
    },
    {
      "cell_type": "markdown",
      "metadata": {
        "id": "Hcz3P_rHkcZw",
        "colab_type": "text"
      },
      "source": [
        "DataFrames erlauben es uns die Daten auf sehr einfache Art anzuzeigen. Dies sollte man aber nur bei kleinen Datenmengen auf die folgende Art machen:"
      ]
    },
    {
      "cell_type": "code",
      "metadata": {
        "id": "QZ6vRKPVZP-S",
        "colab_type": "code",
        "colab": {}
      },
      "source": [
        "Einkommensdaten"
      ],
      "execution_count": 0,
      "outputs": []
    },
    {
      "cell_type": "markdown",
      "metadata": {
        "id": "DHm52UaxhHa7",
        "colab_type": "text"
      },
      "source": [
        "### Head"
      ]
    },
    {
      "cell_type": "markdown",
      "metadata": {
        "id": "OxMtssOaff2S",
        "colab_type": "text"
      },
      "source": [
        "Für die Anzeige von sehr großen Datensätzen, z.B. den Transaktionsdaten, ist das aber nicht zu empfehlen. Hier sollte man sich nur Teile der Daten anschauen. Eine Methode dies zu tun ist die Funktion *head*, die als Parameter *n* annimmt. Mit *n* lässt sich einstellgen, wie viele Zeilen der Tabelle angezeigt werden sollen.\n",
        "\n",
        "Versuchen Sie die ersten 5 und 10 Zeilen auf diese Art anzuzeigen:\n",
        "\n",
        "\n",
        "\n",
        "```\n",
        "Einkommensdaten.head(n=5)\n",
        "```\n",
        "\n",
        "\n"
      ]
    },
    {
      "cell_type": "code",
      "metadata": {
        "id": "GP43lPPZf-rR",
        "colab_type": "code",
        "colab": {}
      },
      "source": [
        "# Nach diesen 2 Zeilen geben Sie bitte Einkommensdaten.head(n=5) ein und\n",
        "# versuchen andere Zahlen als 5. Danach müssen Sie SHIFT-Enter drücken.\n",
        "\n"
      ],
      "execution_count": 0,
      "outputs": []
    },
    {
      "cell_type": "markdown",
      "metadata": {
        "id": "PeQZH3vahLKc",
        "colab_type": "text"
      },
      "source": [
        "### Zeilen und Spalten anschauen"
      ]
    },
    {
      "cell_type": "markdown",
      "metadata": {
        "id": "ItYX00HIkv0r",
        "colab_type": "text"
      },
      "source": [
        "#### Eckige Klammern"
      ]
    },
    {
      "cell_type": "markdown",
      "metadata": {
        "id": "lHeNw0-flrED",
        "colab_type": "text"
      },
      "source": [
        "Die Paket *pandas* erlaubt auch den Zugriff auf bestimmte Zeilen und Spaltes des Datensatzes. Mit eckigen Klammern [] kann man Zeilen auswählen:\n",
        "  * Einkommensdaten[0:3] zeigt die ersten 3 Zeilen an.\n",
        "\n",
        "  * Einkommensdaten[10:20] zeigt die 10 Zeilen nach der 11 Zeile an.\n",
        "\n",
        "  * Einkommensdaten[9] zeigt die 10te Zeile an."
      ]
    },
    {
      "cell_type": "code",
      "metadata": {
        "id": "9jQI8ZncZRmv",
        "colab_type": "code",
        "colab": {}
      },
      "source": [
        "Einkommensdaten[0:3]"
      ],
      "execution_count": 0,
      "outputs": []
    },
    {
      "cell_type": "markdown",
      "metadata": {
        "id": "NqdMwuwgkYim",
        "colab_type": "text"
      },
      "source": [
        "Probieren sie die anderen Varianten aus und verwenden Sie dabei unterschiedliche Zahlen."
      ]
    },
    {
      "cell_type": "code",
      "metadata": {
        "id": "x1WOHO_qkdoa",
        "colab_type": "code",
        "colab": {}
      },
      "source": [
        "# Nach den Zeilen, die mit # beginnen können sie die anderen\n",
        "# Arten ausprobieren. Verwenden Sie dafür auch anderen Zahlen\n",
        "# Einkommensdaten[10:20]\n",
        "# Einkommensdaten[9]\n"
      ],
      "execution_count": 0,
      "outputs": []
    },
    {
      "cell_type": "markdown",
      "metadata": {
        "id": "7a7tEVwOlLyR",
        "colab_type": "text"
      },
      "source": [
        "Man kann mit eckigen Klammern auch nach dem Namen der Spalten selektieren"
      ]
    },
    {
      "cell_type": "code",
      "metadata": {
        "id": "UV4UemDDlQxQ",
        "colab_type": "code",
        "colab": {}
      },
      "source": [
        "Einkommensdaten[['Geschlecht','Haarlaenge']]"
      ],
      "execution_count": 0,
      "outputs": []
    },
    {
      "cell_type": "markdown",
      "metadata": {
        "id": "N8j4LNVllUng",
        "colab_type": "text"
      },
      "source": [
        "Es lässt sich auch beides kombinieren"
      ]
    },
    {
      "cell_type": "code",
      "metadata": {
        "id": "w_GYoz9XlY6K",
        "colab_type": "code",
        "colab": {}
      },
      "source": [
        "Einkommensdaten[['Geschlecht','Haarlaenge']][0:10]"
      ],
      "execution_count": 0,
      "outputs": []
    },
    {
      "cell_type": "markdown",
      "metadata": {
        "id": "KBI0GCipkzMz",
        "colab_type": "text"
      },
      "source": [
        "#### iloc Funktion"
      ]
    },
    {
      "cell_type": "markdown",
      "metadata": {
        "id": "qlu27tvtmPCt",
        "colab_type": "text"
      },
      "source": [
        "Mit dem Funktion .iloc kann man Zeilen und Spalten auswählen."
      ]
    },
    {
      "cell_type": "code",
      "metadata": {
        "id": "KBTopUIUZ6MI",
        "colab_type": "code",
        "colab": {}
      },
      "source": [
        "Einkommensdaten.iloc[0:3,2:4]"
      ],
      "execution_count": 0,
      "outputs": []
    },
    {
      "cell_type": "markdown",
      "metadata": {
        "id": "bu-xzv6qzazs",
        "colab_type": "text"
      },
      "source": [
        "## Aufgaben zum Thema Daten"
      ]
    },
    {
      "cell_type": "markdown",
      "metadata": {
        "id": "PhvU4BYEzeit",
        "colab_type": "text"
      },
      "source": [
        "#### Aufgabe 1\n",
        "Nur die Spalte \"Bildung\" anzeigen"
      ]
    },
    {
      "cell_type": "code",
      "metadata": {
        "id": "wEyHkrN8zjei",
        "colab_type": "code",
        "colab": {}
      },
      "source": [
        "Einkommensdaten[ <HIER AUSFÜLLEN> ]"
      ],
      "execution_count": 0,
      "outputs": []
    },
    {
      "cell_type": "markdown",
      "metadata": {
        "id": "2Nx_kJOpzlkj",
        "colab_type": "text"
      },
      "source": [
        "#### Aufagbe 2\n",
        "\n",
        "Die Spalten \"Bildung\", \"Einkommen\" und \"Haarlänge\" anzeigen, allerdings nur die letzten 5 Zeilen"
      ]
    },
    {
      "cell_type": "code",
      "metadata": {
        "id": "xvXHjHHCzspL",
        "colab_type": "code",
        "colab": {}
      },
      "source": [
        "Einkommensdaten[ <HIER AUSFÜLLEN> ]"
      ],
      "execution_count": 0,
      "outputs": []
    },
    {
      "cell_type": "markdown",
      "metadata": {
        "id": "ppz_rOY9zu6A",
        "colab_type": "text"
      },
      "source": [
        "### Aufgabe 3\n",
        "\n",
        "Wählen nun selbst Spalten und Zeilen zur Anzeige aus."
      ]
    },
    {
      "cell_type": "code",
      "metadata": {
        "id": "rBjl1TPtzyxZ",
        "colab_type": "code",
        "colab": {}
      },
      "source": [
        "Einkommensdaten[ <HIER AUSFÜLLEN> ]"
      ],
      "execution_count": 0,
      "outputs": []
    },
    {
      "cell_type": "markdown",
      "metadata": {
        "id": "KMCOIIGcmc7h",
        "colab_type": "text"
      },
      "source": [
        "# Plotting - Daten visualisieren"
      ]
    },
    {
      "cell_type": "markdown",
      "metadata": {
        "id": "4glXtmKcm_Tm",
        "colab_type": "text"
      },
      "source": [
        "In dem vorherigen Abschnitt haben wir uns die Daten in Form von Tabellen angesehen. In diesem Abschnitt werden wir die Daten visualisieren. Dazu verwenden wir die Funktionen, die uns das Paket *bokeh* zur Verfügung stellt.\n",
        "\n",
        "Als erstes schauen wir uns ein paar sehr einfache Beispieldaten an.\n",
        "\n",
        "Die Variable *x_bsp* enthält die werden auf der x-Achse unseres Plots (von links nach rechts), die Varaible *y_bsp* enthält die Werte auf der y-Achse (von unten nach oben). Ein Punkt wird für jeden Wert aus x_bsp und y_bsp gezeichnet.\n",
        "\n",
        "In der nächsten Zelle steht:\n",
        "\n",
        "\n",
        "```\n",
        "x_bsp = [0,1,2,3,4,5,6,7,8,9,10]\n",
        "y_bsp = [0,2,4,8,10,10,8,4,2,2,1]\n",
        "```\n",
        "Das bedeutet, dass jeweils ein Punkt für die Koordinate (x=0, y=0), (x=1, y=2), (x=2, y=4), (x=3, y=8), ... gezeichnet wird. Wir werden diese Punkte mit Linien verbinden.\n",
        "\n",
        "Als erster müssen wir das \"Blatt\" erstellen, auf dem wir den Graphen malen. Das macht man mit der Funktion\n",
        "\n",
        "\n",
        "```\n",
        "p = figure(title = \"Beispiel\", plot_width=800, plot_height=300)\n",
        "```\n",
        "\n",
        "Nun können wir auf dem \"Blatt\" malen, das *p* heisst.\n",
        "\n",
        "Mit \n",
        "```\n",
        "p.line(x_bsp,y_bsp, color=\"#0A09A2\")\n",
        "```\n",
        "sagen wir, dass eine Linie entlang der Koordinaten gemalt werden soll, die in den Variablen *x_bsp* und *y_bsp* gespeichert wird, und dass dabei die Farbe genommen werden soll, die durch \"#0A09A2\" bestimmt wurde.\n",
        "\n",
        "```\n",
        "show(p)\n",
        "```\n",
        "sagt, dass das \"Blatt\" angezeigt werden soll.\n",
        "\n",
        "Verändern Sie in dem der folgenden Zelle bitte die Koordianten und Farbe."
      ]
    },
    {
      "cell_type": "code",
      "metadata": {
        "id": "x1nADpq7IPwd",
        "colab_type": "code",
        "colab": {}
      },
      "source": [
        "x_bsp = [0,1,2,3,4,5,6,7,8,9,10]\n",
        "y_bsp = [0,2,4,8,10,10,8,4,2,2,1]\n",
        "\n",
        "p = figure(title = \"Beispiel\", plot_width=800, plot_height=300)\n",
        "p.line(x_bsp,y_bsp, color=\"#0A09A2\")\n",
        "show(p)"
      ],
      "execution_count": 0,
      "outputs": []
    },
    {
      "cell_type": "markdown",
      "metadata": {
        "id": "xD1OewZRpIDM",
        "colab_type": "text"
      },
      "source": [
        "Man kann mehrere Linien zeichen, in dem man die entsprechende Funktion mehrmals aufruft."
      ]
    },
    {
      "cell_type": "code",
      "metadata": {
        "id": "zI2WDf0gJYTB",
        "colab_type": "code",
        "colab": {}
      },
      "source": [
        "x_bsp = [0,1,2,3,4,5,6,7,8,9,10]\n",
        "y_bsp = [0,2,4,8,10,10,8,4,2,2,1]\n",
        "\n",
        "p = figure(title = \"Beispiel\", plot_width=800, plot_height=300)\n",
        "p.line(x_bsp,y_bsp, color=\"#0A09A2\")\n",
        "p.line(x_bsp,[2*v for v in y_bsp], color=\"#AA09A2\")\n",
        "show(p)"
      ],
      "execution_count": 0,
      "outputs": []
    },
    {
      "cell_type": "markdown",
      "metadata": {
        "id": "cTSVRGYIz_2c",
        "colab_type": "text"
      },
      "source": [
        "### Aufgabe 1\n",
        "\n",
        "Zeichnen sie ein Viereck mit den Koordinaten (0,0), (0,1), (1,1), (1,0)"
      ]
    },
    {
      "cell_type": "code",
      "metadata": {
        "id": "I0YGTtbU0F7R",
        "colab_type": "code",
        "colab": {}
      },
      "source": [
        "x = [ <HIER AUSFÜLLEN> ]\n",
        "y = [ <HIER AUSFÜLLEN> ]\n",
        "\n",
        "p = figure(title = \"Beispiel\", plot_width=300, plot_height=300)\n",
        "p.line(x, y, color=\"#0A09A2\")\n",
        "show(p)"
      ],
      "execution_count": 0,
      "outputs": []
    },
    {
      "cell_type": "markdown",
      "metadata": {
        "id": "QS1N8CUJ0O1Q",
        "colab_type": "text"
      },
      "source": [
        "Aufgabe 2\n",
        "\n",
        "Verändern Sie die Farbe des Vierecks"
      ]
    },
    {
      "cell_type": "code",
      "metadata": {
        "id": "4rOep5FP0WiB",
        "colab_type": "code",
        "colab": {}
      },
      "source": [
        "x = [ <HIER AUSFÜLLEN> ]\n",
        "y = [ <HIER AUSFÜLLEN> ]\n",
        "\n",
        "p = figure(title = \"Beispiel\", plot_width=300, plot_height=300)\n",
        "p.line(x, y, color=\"#0A09A2\")\n",
        "show(p)"
      ],
      "execution_count": 0,
      "outputs": []
    },
    {
      "cell_type": "markdown",
      "metadata": {
        "id": "TjCcLTAwoNXu",
        "colab_type": "text"
      },
      "source": [
        "## Visualisierung der Einkommensdaten"
      ]
    },
    {
      "cell_type": "markdown",
      "metadata": {
        "id": "nn0LRzbLspLY",
        "colab_type": "text"
      },
      "source": [
        "Als nächstes reproduzieren wir die Plots aus den Folien. Der erste Plot zeigte den Zusammenhang zwischen Bildung, Einkommen und Geschlecht.\n",
        "\n",
        "Für das Geschlecht haben wir 2 Farben gewählt. Diese müssen wir dem Datensatz noch hinzufügen.\n",
        "\n",
        "Das machen wir mit den folgenden Zeilen:\n",
        "\n",
        "```\n",
        "colormap = {'W': 'green', 'M': 'orange'}\n",
        "colors = [colormap[x] for x in Einkommensdaten['Geschlecht']]\n",
        "Einkommensdaten['Farbe'] = colors\n",
        "source = ColumnDataSource(Einkommensdaten)\n",
        "```\n",
        "\n",
        "Die erste Zeile legt fest, welche Farben wir für W (weiblich) und M (männlich) haben wollen. Die zweite Zeile weist diese Farben jedem Eintrag in dem Datensatz zu und die dritte Zeile erstellt eine neue Spalte namens 'Farbe', in der die Werte gespeichert werden. Die vierte Zeile legt fest, dass der Datensatz *Einkommensdaten* die Datengrundlage für die Visualiserung ist. So kann man deutlich einfacher auf die Daten zugreifen (sieht man bei dem p.circle weiter unten).\n",
        "\n",
        "\n",
        "Die folgenden Zeilen erstellen wieder das \"Blatt\" und legen die Achsenbeschriftung fest.\n",
        "```\n",
        "p = figure(title = \"Gehaltsdaten\")\n",
        "p.xaxis.axis_label = 'Bildung'\n",
        "p.yaxis.axis_label = 'Einkommen'\n",
        "\n",
        "```\n",
        "\n",
        "Als nächsten zeichen wir die Punkte auf. Hier sehen wir auch warum wir die Zeile *source = ColumnDataSource(Einkommensdaten)* oben verwendet haben. Wir können nun einfach die Namen der Spalten angeben:\n",
        "\n",
        "```\n",
        "p.circle(\"Bildung\",      # x-Achse\n",
        "         \"Einkommen\",    # y-Achse\n",
        "         color=\"Farbe\",  # Die Farbe für jeden Punkt\n",
        "         fill_alpha=0.2, # Leicht transparent\n",
        "         size=10,        # 10 Pixel gross\n",
        "         legend=\"Geschlecht\", # Legende ist W und M\n",
        "         source=source) # Datengrundlagen ist die Variable source\n",
        "p.legend.location = \"top_left\" # Die Legende soll in der oberen, linken Ecke sein\n",
        "```\n",
        "\n",
        "Zum Schluss müssen wir das \"Blatt\" noch anzeigen.\n",
        "\n",
        "```\n",
        "show(p)\n",
        "```\n",
        "\n"
      ]
    },
    {
      "cell_type": "code",
      "metadata": {
        "id": "s3d0GPiG9CyZ",
        "colab_type": "code",
        "colab": {}
      },
      "source": [
        "colormap = {'W': 'green', 'M': 'orange'}\n",
        "colors = [colormap[x] for x in Einkommensdaten['Geschlecht']]\n",
        "Einkommensdaten['Farbe'] = colors\n",
        "\n",
        "source = ColumnDataSource(Einkommensdaten)\n",
        "\n",
        "p = figure(title = \"Gehaltsdaten\")\n",
        "p.xaxis.axis_label = 'Bildung'\n",
        "p.yaxis.axis_label = 'Einkommen'\n",
        "\n",
        "p.circle(\"Bildung\",\n",
        "         \"Einkommen\",\n",
        "         color=\"Farbe\",\n",
        "         fill_alpha=0.2,\n",
        "         size=10,\n",
        "         legend=\"Geschlecht\",\n",
        "         source=source)\n",
        "p.legend.location = \"top_left\"\n",
        "\n",
        "show(p)"
      ],
      "execution_count": 0,
      "outputs": []
    },
    {
      "cell_type": "markdown",
      "metadata": {
        "id": "xO158zCkwsES",
        "colab_type": "text"
      },
      "source": [
        "In der folgenden Zelle können Sie unterschiedliche Zusammenhänge ausprobiern, z.B. könnten Sie sich anschauen, wie sich das Gehalt zur Haarlänge verhält."
      ]
    },
    {
      "cell_type": "code",
      "metadata": {
        "id": "K7RaatoMNzeI",
        "colab_type": "code",
        "colab": {}
      },
      "source": [
        "colormap = {'W': 'green', 'M': 'orange'}\n",
        "colors = [colormap[x] for x in Einkommensdaten['Geschlecht']]\n",
        "Einkommensdaten['Farbe'] = colors\n",
        "\n",
        "source = ColumnDataSource(Einkommensdaten)\n",
        "\n",
        "p = figure(title = \"Gehaltsdaten\")\n",
        "p.xaxis.axis_label = 'Bildung'\n",
        "p.yaxis.axis_label = <EINFÜGEN>\n",
        "\n",
        "p.circle(\"Bildung\",\n",
        "         <EINFÜGEN>\n",
        "         color=\"Farbe\",\n",
        "         fill_alpha=0.2,\n",
        "         size=10,\n",
        "         legend=\"Geschlecht\",\n",
        "         source=source)\n",
        "p.legend.location = \"top_left\"\n",
        "\n",
        "show(p)"
      ],
      "execution_count": 0,
      "outputs": []
    },
    {
      "cell_type": "markdown",
      "metadata": {
        "id": "RPi74Duqypyj",
        "colab_type": "text"
      },
      "source": [
        "## Modellierung der Einkommensdaten (manuell)"
      ]
    },
    {
      "cell_type": "code",
      "metadata": {
        "id": "C-cp7sSKca9w",
        "colab_type": "code",
        "colab": {}
      },
      "source": [
        "minimum = np.min(Einkommensdaten['Bildung'])\n",
        "maximum = np.max(Einkommensdaten['Bildung'])\n",
        "\n",
        "xp   = np.linspace(minimum, maximum, 1000)\n",
        "\n",
        "fit  = np.polyfit(x=Einkommensdaten['Bildung'], y=Einkommensdaten['Einkommen'],\n",
        "                  deg=1) # <<<< Den Grad hier ändern\n",
        "\n",
        "func = np.poly1d(fit)\n",
        "yp   = [func(v) for v in xp]\n",
        "\n",
        "colormap = {'W': 'green', 'M': 'orange'}\n",
        "colors = [colormap[x] for x in Einkommensdaten['Geschlecht']]\n",
        "Einkommensdaten['colors'] = colors\n",
        "\n",
        "source = ColumnDataSource(Einkommensdaten)\n",
        "\n",
        "p = figure(title = \"Gehaltsdaten\")\n",
        "p.xaxis.axis_label = 'Bildung'\n",
        "p.yaxis.axis_label = 'Einkommen'\n",
        "\n",
        "p.circle(\"Bildung\",\n",
        "         \"Einkommen\",\n",
        "         color=\"colors\",\n",
        "         fill_alpha=0.2,\n",
        "         size=10,\n",
        "         legend=\"Geschlecht\",\n",
        "         source=source)\n",
        "p.line(xp,yp)\n",
        "p.legend.location = \"top_left\"\n",
        "\n",
        "show(p)"
      ],
      "execution_count": 0,
      "outputs": []
    },
    {
      "cell_type": "markdown",
      "metadata": {
        "id": "TG4a6pzC0bAT",
        "colab_type": "text"
      },
      "source": [
        "# Transaktionsdaten"
      ]
    },
    {
      "cell_type": "markdown",
      "metadata": {
        "id": "0eh7sZxY01lo",
        "colab_type": "text"
      },
      "source": [
        "## Transaktionsdaten laden"
      ]
    },
    {
      "cell_type": "code",
      "metadata": {
        "id": "Q-ikeQnU04yf",
        "colab_type": "code",
        "colab": {}
      },
      "source": [
        "Transaktionsdaten = pyreadr.read_r('/gdrive/My Drive/ML-Workshop/transactions2.RData')['transactions2']"
      ],
      "execution_count": 0,
      "outputs": []
    },
    {
      "cell_type": "markdown",
      "metadata": {
        "id": "3U-V_8ip05q9",
        "colab_type": "text"
      },
      "source": [
        "## Datensatz inspizieren mit head"
      ]
    },
    {
      "cell_type": "code",
      "metadata": {
        "id": "joq_iW35Nq2Q",
        "colab_type": "code",
        "colab": {}
      },
      "source": [
        "Transaktionsdaten.head(n=10)"
      ],
      "execution_count": 0,
      "outputs": []
    },
    {
      "cell_type": "markdown",
      "metadata": {
        "id": "FVrSpRcY1AIs",
        "colab_type": "text"
      },
      "source": [
        "## Verhältnis von Fraud zu Non-Fraud visualisieren"
      ]
    },
    {
      "cell_type": "markdown",
      "metadata": {
        "id": "_VbmABX01Qlf",
        "colab_type": "text"
      },
      "source": [
        "Als erstes zählen wir, wie viele Fälle von Betrug in dem Datensatz vohanden sind und wie viele Fälle keine Betrugsfälle sind."
      ]
    },
    {
      "cell_type": "code",
      "metadata": {
        "id": "IhWM1Y841RCF",
        "colab_type": "code",
        "colab": {}
      },
      "source": [
        "nr_fraud = len(Transaktionsdaten[ (Transaktionsdaten[\"isFraud\"] == 1)])\n",
        "nr_no_fraud = len(Transaktionsdaten[ (Transaktionsdaten[\"isFraud\"] == 0)])\n",
        "\n",
        "print('Anzahl der Betrugsfälle:                      %d' % (nr_fraud))\n",
        "print('Anzahl der der Fääle, die keinen Betrug sind: %d' % (nr_no_fraud))"
      ],
      "execution_count": 0,
      "outputs": []
    },
    {
      "cell_type": "markdown",
      "metadata": {
        "id": "Q189nkwi1bwL",
        "colab_type": "text"
      },
      "source": [
        "Als nächsten zeigen wir diese Daten in einem Balkendiagramm an."
      ]
    },
    {
      "cell_type": "code",
      "metadata": {
        "id": "4meV6XWnc_We",
        "colab_type": "code",
        "colab": {}
      },
      "source": [
        "labels =['fraud', 'no froud']\n",
        "p = figure(x_range=labels, plot_height=350, title=\"Fraud vs. Non-Fraud\",\n",
        "           toolbar_location=None, tools=\"\")\n",
        "\n",
        "counts =[len(Transaktionsdaten[ (Transaktionsdaten[\"isFraud\"] == 1)]),\n",
        "         len(Transaktionsdaten[ (Transaktionsdaten[\"isFraud\"] == 0)])]\n",
        "\n",
        "p.vbar(x=labels, top=counts, width=0.9)\n",
        "\n",
        "show(p)"
      ],
      "execution_count": 0,
      "outputs": []
    },
    {
      "cell_type": "code",
      "metadata": {
        "id": "weHI0wI5d_Qs",
        "colab_type": "code",
        "colab": {}
      },
      "source": [
        "p = figure(title = \"Transaktionsdaten\")\n",
        "p.xaxis.axis_label = 'Fraud'\n",
        "p.yaxis.axis_label = 'Amount'\n",
        "\n",
        "p.circle(Transaktionsdaten[\"isFraud\"][0:100000],\n",
        "         Transaktionsdaten[\"amount\"][0:100000],\n",
        "         fill_alpha=0.2,\n",
        "         size=10)\n",
        "show(p)"
      ],
      "execution_count": 0,
      "outputs": []
    },
    {
      "cell_type": "markdown",
      "metadata": {
        "id": "WbAc0fHZ9cGB",
        "colab_type": "text"
      },
      "source": [
        "Probieren Sie andere Zusammenhänge zu visualisieren"
      ]
    },
    {
      "cell_type": "code",
      "metadata": {
        "id": "gdVeoZP69faE",
        "colab_type": "code",
        "colab": {}
      },
      "source": [
        "p = figure(title = \"Transaktionsdaten\")\n",
        "p.xaxis.axis_label = <EINFÜGEN>\n",
        "p.yaxis.axis_label = <EINFÜGEN>\n",
        "\n",
        "p.circle(Transaktionsdaten[<EINFÜGEN>][0:100000],\n",
        "         Transaktionsdaten[<EINFÜGEN>][0:100000],\n",
        "         fill_alpha=0.2,\n",
        "         size=10)\n",
        "show(p)"
      ],
      "execution_count": 0,
      "outputs": []
    },
    {
      "cell_type": "markdown",
      "metadata": {
        "colab_type": "text",
        "id": "8CvQ-HciorDn"
      },
      "source": [
        "# Klassifizieren mit Logistischer Regression\n",
        "\n",
        "Als nächstes widmen wir uns der Klassifizierung der Daten mit dem Modell der Logistischen Regression, das wir soeben besprochen haben. \n",
        "\n",
        "Zunächst wollen wir das auf dem Einkommensdatensatz machen. Zum Beispiel möchten wir das Geschlecht anhand der Haarlänge vorhersagen.\n",
        "Für diese Analysen laden wir uns ein paar nützliche Pakete von Scikit-Learn herunter. Scikit-Learn ist eine Sammlung von häufig verwendeten Werkzeugen im Maschinellen Lernen.\n",
        "\n",
        "Das Einbinden von SciKit-Learn erfolgt über das Paket sklearn. Weil es ziemlich umfänglich ist, laden wir nur die benötigte Funktionalität."
      ]
    },
    {
      "cell_type": "code",
      "metadata": {
        "id": "8k-1QsUq7xC5",
        "colab_type": "code",
        "colab": {}
      },
      "source": [
        "from sklearn.model_selection import train_test_split\n",
        "from sklearn.linear_model import LogisticRegression\n",
        "from sklearn.metrics import accuracy_score, confusion_matrix"
      ],
      "execution_count": 0,
      "outputs": []
    },
    {
      "cell_type": "markdown",
      "metadata": {
        "id": "sWGusy7LGf-W",
        "colab_type": "text"
      },
      "source": [
        "## Inspizieren der Daten"
      ]
    },
    {
      "cell_type": "markdown",
      "metadata": {
        "id": "ngajvbcD86io",
        "colab_type": "text"
      },
      "source": [
        "Schauen wir uns den Datensatz noch einmal an:"
      ]
    },
    {
      "cell_type": "code",
      "metadata": {
        "id": "f2riV_4kFJDK",
        "colab_type": "code",
        "colab": {}
      },
      "source": [
        "Einkommensdaten.head(n=10)"
      ],
      "execution_count": 0,
      "outputs": []
    },
    {
      "cell_type": "markdown",
      "metadata": {
        "id": "UYqmM2fcIrlS",
        "colab_type": "text"
      },
      "source": [
        "Die Größe des Datensatzes kann man mit *shape* erfahren. Die erste Zahl sind die Anzahl der Zeilen, die zweite Zahl sind die Anzahl der Spalten.\n",
        "\n"
      ]
    },
    {
      "cell_type": "code",
      "metadata": {
        "id": "JIHArbaqIr1N",
        "colab_type": "code",
        "colab": {}
      },
      "source": [
        "Einkommensdaten.shape"
      ],
      "execution_count": 0,
      "outputs": []
    },
    {
      "cell_type": "markdown",
      "metadata": {
        "id": "PlMPoc4IIsGJ",
        "colab_type": "text"
      },
      "source": [
        "## Aufteilen in Trainingsdaten und Testdaten"
      ]
    },
    {
      "cell_type": "markdown",
      "metadata": {
        "id": "wkgNERsQE2fd",
        "colab_type": "text"
      },
      "source": [
        "Zunächst muss der Datensatz geteilt werden \n",
        "Speichere dazu 60% der Beobachtungen in das Objekt \"samples\" und tue dies zufällig (der Code ist gegeben)"
      ]
    },
    {
      "cell_type": "code",
      "metadata": {
        "id": "DLAVW4vJFdNR",
        "colab_type": "code",
        "colab": {}
      },
      "source": [
        "seed=1\n",
        "train_size = 0.6\n",
        "Haarlaenge_train, Haarlaenge_test, Geschlecht_train, Geschlecht_test = train_test_split(Einkommensdaten[['Haarlaenge']], Einkommensdaten['Geschlecht'], train_size=train_size, random_state=seed)"
      ],
      "execution_count": 0,
      "outputs": []
    },
    {
      "cell_type": "markdown",
      "metadata": {
        "id": "M9IOtG9WGOiQ",
        "colab_type": "text"
      },
      "source": [
        "Gehen wir sicher, dass wir die richtige Anzahl an Trainingsdatensätzen haben:"
      ]
    },
    {
      "cell_type": "code",
      "metadata": {
        "id": "D11SzydXGYS1",
        "colab_type": "code",
        "colab": {}
      },
      "source": [
        "print(Haarlaenge_train.shape)\n",
        "print(Geschlecht_train.shape)"
      ],
      "execution_count": 0,
      "outputs": []
    },
    {
      "cell_type": "markdown",
      "metadata": {
        "id": "GbQR0DFULZ9p",
        "colab_type": "text"
      },
      "source": [
        "## Modellbildung"
      ]
    },
    {
      "cell_type": "markdown",
      "metadata": {
        "id": "x1zuQnoxGdZI",
        "colab_type": "text"
      },
      "source": [
        "Jetzt bauen wir unser Model mit Logistischer Regression. Dafür benutzen wir eine Implementierung von Scikit-Learn mit dem passenden Namen LogisticRegression.\n"
      ]
    },
    {
      "cell_type": "code",
      "metadata": {
        "id": "UAzGPkpBoNvt",
        "colab_type": "code",
        "colab": {}
      },
      "source": [
        "logmodel = LogisticRegression(solver='lbfgs')\n",
        "logmodel.fit(Haarlaenge_train,Geschlecht_train)"
      ],
      "execution_count": 0,
      "outputs": []
    },
    {
      "cell_type": "markdown",
      "metadata": {
        "id": "Ock18LGULczh",
        "colab_type": "text"
      },
      "source": [
        "## Verwenden des Modells für eine Vorhersage"
      ]
    },
    {
      "cell_type": "markdown",
      "metadata": {
        "id": "m7YNmyXHoQe7",
        "colab_type": "text"
      },
      "source": [
        "Das Modell können wir nun dafür verwenden Vorhersagen zu machen."
      ]
    },
    {
      "cell_type": "code",
      "metadata": {
        "id": "0VT5_sMvqNc_",
        "colab_type": "code",
        "colab": {}
      },
      "source": [
        "Vorhersage = logmodel.predict(Haarlaenge_test)\n",
        "print(Vorhersage)"
      ],
      "execution_count": 0,
      "outputs": []
    },
    {
      "cell_type": "markdown",
      "metadata": {
        "id": "QaqttrP2Ludr",
        "colab_type": "text"
      },
      "source": [
        "## Genauigkeit und Präzision des Modells bestimmen"
      ]
    },
    {
      "cell_type": "markdown",
      "metadata": {
        "id": "oXcFKPyXqSGn",
        "colab_type": "text"
      },
      "source": [
        "Dieses Ergebnis schauen wir uns am Besten genauer an. Insbesondere möchten wir wissen wie gut wir das Geschlecht vorhergesagt haben. Dazu vergleichen wir die vorhergesagten Daten mit den echten. Das Scikit-Learn hat dafür auch schon ein paar nützliche Funktionen: accuracy_score und confusion_matrix, die den Vergleich für uns machen."
      ]
    },
    {
      "cell_type": "code",
      "metadata": {
        "id": "3D2zKO04Hmig",
        "colab_type": "code",
        "colab": {}
      },
      "source": [
        "accuracy = accuracy_score(Geschlecht_test, Vorhersage)\n",
        "cm_results = confusion_matrix(Geschlecht_test, Vorhersage).ravel()\n",
        "\n",
        "print(\"Korrekt Klassifiziert (insgesamt) :     %.2f%%\" % (accuracy * 100.0))\n",
        "print(\"Korrekt Abgelehnt (true negatives):     \" + str(cm_results[0]))\n",
        "print(\"Fälschlich Abgelehnt (false negatives): \" + str(cm_results[2]))\n",
        "print(\"Korrekt Erkannt (true positives):       \" + str(cm_results[3]))\n",
        "print(\"Fälschlich Erkannt (false positives):   \" + str(cm_results[1]))"
      ],
      "execution_count": 0,
      "outputs": []
    },
    {
      "cell_type": "markdown",
      "metadata": {
        "id": "nkPhtsC6PRKx",
        "colab_type": "text"
      },
      "source": [
        "# Logistische Regression auf den Transaktionsdaten"
      ]
    },
    {
      "cell_type": "markdown",
      "metadata": {
        "id": "rSiGtYaxswJs",
        "colab_type": "text"
      },
      "source": [
        "Als nächstes wollen wir uns an einen \"Big Data\" Datensatz machen, für die Transaktionsdaten. Auch hier können wir die logistische Regression verwenden.\n",
        "\n",
        "Bevor wir den Algorithmus einsetzen können, müssen wir erst einmal das Datenset so einrichten, dass wir ein Trainingsdatenset und ein Testdatenset haben. Wir werden auf einem Teil, z.B. 80%, der Daten unser Modell trainieren, dann auf dem anderen Teil (20%) das Modell validieren. Das Modell, also das Endprodukt der Anwendung des Algorithmus, sagt in diesem Fall aus den Daten hervor, ob ein Betrug (isFraud) stattgefunden hat.\n",
        "\n",
        "Schauen wir uns die Datenstruktur genauer an.\n",
        "\n",
        "Als erstes schauen wir uns an, wie groß der Datensatz ist."
      ]
    },
    {
      "cell_type": "code",
      "metadata": {
        "id": "-S8cqLCpt3l1",
        "colab_type": "code",
        "colab": {}
      },
      "source": [
        "Transaktionsdaten.shape"
      ],
      "execution_count": 0,
      "outputs": []
    },
    {
      "cell_type": "markdown",
      "metadata": {
        "id": "FQXXsFhzopse",
        "colab_type": "text"
      },
      "source": [
        "An nächstes schauen wir uns an, welche Datenfelder in dem Datensatz vorhanden sind."
      ]
    },
    {
      "cell_type": "code",
      "metadata": {
        "id": "WKdzOVELou5f",
        "colab_type": "code",
        "colab": {}
      },
      "source": [
        "Transaktionsdaten.head(n=5)"
      ],
      "execution_count": 0,
      "outputs": []
    },
    {
      "cell_type": "markdown",
      "metadata": {
        "id": "ArOndbO-uIVz",
        "colab_type": "text"
      },
      "source": [
        "Jetzt wissen wir, welche Variablen es gibt und können einzelne auswählen.\n",
        "\n",
        "Unser Ziel ist es, vorherzusagen, ob Betrug begangen wurde. Die Variable 'isFraud' gibt an, ob die Transaktion betrügerischer Natur war. Diese soll nicht in unsere Berechnungen eingehen, sondern vorhergesagt werden. Deswegen teilen wir unsere Daten in die Variablen zur Berechnung (X) und die Vorhergesagten auf."
      ]
    },
    {
      "cell_type": "code",
      "metadata": {
        "id": "KyP4IUMiuJGz",
        "colab_type": "code",
        "colab": {}
      },
      "source": [
        "# Wir können aus den einzelnen Spalten auswählen. 'isFraud' wollen wir nicht!\n",
        "Transaktionsdaten_X = Transaktionsdaten[['amount', 'oldbalanceOrg', 'newbalanceOrg', 'oldbalanceDest',\n",
        "       'newbalanceDest', 'hour']]\n",
        "\n",
        "# Wir wählen isFraud zur Vorhersage aus\n",
        "Transaktionsdaten_Y = Transaktionsdaten[['isFraud']]"
      ],
      "execution_count": 0,
      "outputs": []
    },
    {
      "cell_type": "markdown",
      "metadata": {
        "id": "M5J-8akAuaU7",
        "colab_type": "text"
      },
      "source": [
        "Als nächsten Schritt teilen wir die Datensets in Trainings- und Testdaten. Damit wir später unsere Modelle vergleichen können, setzten wir den Zufälligkeitsalgorithmus (seed) fest."
      ]
    },
    {
      "cell_type": "code",
      "metadata": {
        "id": "o0-Gjkghueqk",
        "colab_type": "code",
        "colab": {}
      },
      "source": [
        "seed=1\n",
        "test_size = 0.2\n",
        "x_train, x_test, y_train, y_test = train_test_split(Transaktionsdaten_X,\n",
        "                                                    Transaktionsdaten_Y,\n",
        "                                                    test_size=test_size,\n",
        "                                                    random_state=seed)"
      ],
      "execution_count": 0,
      "outputs": []
    },
    {
      "cell_type": "markdown",
      "metadata": {
        "id": "JAoUPpJPunpN",
        "colab_type": "text"
      },
      "source": [
        "Schauen wir uns das training set an: x_train und y_train sollten die gleiche Anzahl Zeilen haben. x_train sind die Daten von denen wir die Kategorie in y_train vorhersagen. x_test und y_test benutzen wir zur Validierung des Modells und werden nicht zum Trainieren verwendet!"
      ]
    },
    {
      "cell_type": "code",
      "metadata": {
        "id": "8ybOL6qDuopE",
        "colab_type": "code",
        "colab": {}
      },
      "source": [
        "print(x_train.shape)\n",
        "print(y_train.shape)"
      ],
      "execution_count": 0,
      "outputs": []
    },
    {
      "cell_type": "code",
      "metadata": {
        "id": "w4gFwHvGt22f",
        "colab_type": "code",
        "colab": {}
      },
      "source": [
        "print(\"Anteil der Daten für das Training: %.2f%%\" % (x_train.shape[0] / Transaktionsdaten.shape[0] * 100.0))"
      ],
      "execution_count": 0,
      "outputs": []
    },
    {
      "cell_type": "markdown",
      "metadata": {
        "id": "cwOmNv-Au2sL",
        "colab_type": "text"
      },
      "source": [
        "Jetzt trainieren (fitten) wir unser Modell mit Hilfe der Logistischen Regression. "
      ]
    },
    {
      "cell_type": "code",
      "metadata": {
        "id": "E8QPygmRvC8_",
        "colab_type": "code",
        "colab": {}
      },
      "source": [
        "logmodel = LogisticRegression(solver='lbfgs')\n",
        "logmodel.fit(x_train, y_train.values.ravel())"
      ],
      "execution_count": 0,
      "outputs": []
    },
    {
      "cell_type": "markdown",
      "metadata": {
        "id": "VOJrnzKkwQZU",
        "colab_type": "text"
      },
      "source": [
        "Jetzt müssen wir nur noch das Modell auf die Testdaten anwenden."
      ]
    },
    {
      "cell_type": "code",
      "metadata": {
        "id": "tLEmAAnZwRxS",
        "colab_type": "code",
        "colab": {}
      },
      "source": [
        "Vorhersage = logmodel.predict(x_test)\n",
        "\n",
        "print(Vorhersage)"
      ],
      "execution_count": 0,
      "outputs": []
    },
    {
      "cell_type": "markdown",
      "metadata": {
        "id": "tBQhlt9CwcFa",
        "colab_type": "text"
      },
      "source": [
        "Wir sehen, die Vorhersage ist viel zu lang ist (20% von circa 2.7 Millionen) um angezeigt zu werden. Außerdem sind viele 0 dabei - warum ist das so?\n",
        "\n",
        "Jetzt wollen wir noch Vergleichen, was wir vorhergesagt haben und was wirklich im Datensatz steht"
      ]
    },
    {
      "cell_type": "code",
      "metadata": {
        "id": "JNKXffUBwUQH",
        "colab_type": "code",
        "colab": {}
      },
      "source": [
        "accuracy = accuracy_score(y_test, Vorhersage)\n",
        "cm_results=confusion_matrix(y_test, Vorhersage).ravel()\n",
        "\n",
        "print(\"Korrekt Klassifiziert (insgesamt) :     %.2f%%\" % (accuracy * 100.0))\n",
        "print(\"Korrekt Abgelehnt (true negatives):     \" + str(cm_results[0]))\n",
        "print(\"Fälschlich Abgelehnt (false negatives): \" + str(cm_results[2]))\n",
        "print(\"Korrekt Erkannt (true positives):       \" + str(cm_results[3]))\n",
        "print(\"Fälschlich Erkannt (false positives):   \" + str(cm_results[1]))"
      ],
      "execution_count": 0,
      "outputs": []
    },
    {
      "cell_type": "markdown",
      "metadata": {
        "id": "H_nbLNPTSGJN",
        "colab_type": "text"
      },
      "source": [
        "# Maschinelles Lernen mit XGBoost\n",
        "\n",
        "In diesem Tutorial wollen wir eine Methode aus dem Maschinellen Lernen verwenden: Den e**X**treme **G**radient **Boost**ing Algorithmus XGBoost.\n",
        "\n",
        "Im Bereich Maschinellen Lernen gibt es sogenannte Kaggle Challenges, wo KI-Teams gegeneinander mit ihren Algorithmen antreten. Der XGBoost hat dabei mehrmals alle anderen geschlagen und ist ein sehr effizientes und mächtiges Werkzeug.\n",
        "\n",
        "Wir werden XGBoost heute auf die Transaktionsdaten anwenden, um Betrüger aufzuspüren."
      ]
    },
    {
      "cell_type": "markdown",
      "metadata": {
        "id": "uVgjB4VqYaW0",
        "colab_type": "text"
      },
      "source": [
        "Wir installieren den Algorithmus XGBoost"
      ]
    },
    {
      "cell_type": "code",
      "metadata": {
        "id": "79lUM6I6yyKf",
        "colab_type": "code",
        "colab": {}
      },
      "source": [
        "# Installieren der relevanten Pakete\n",
        "!pip install xgboost # Der Algorithmus XGBoost\n",
        "from xgboost import XGBClassifier"
      ],
      "execution_count": 0,
      "outputs": []
    },
    {
      "cell_type": "markdown",
      "metadata": {
        "id": "Em9TgCnQf5-I",
        "colab_type": "text"
      },
      "source": [
        "Jetzt trainieren (fit) wir unser Modell mit Hilfe des XGBoost Algorithmus. Wir lassen diesen z.B. 10x laufen und nutzen am Ende das beste Modell. Der Output der Funktion zeigt uns schon einmal vorab, wie gut jeder Durchgang ist."
      ]
    },
    {
      "cell_type": "code",
      "metadata": {
        "id": "_GSxrjvvghV_",
        "colab_type": "code",
        "colab": {}
      },
      "source": [
        "model = XGBClassifier(booster=\"gbtree\", max_depth = 2, objective = \"binary:logistic\", nfold = 10, n_estimators=10)\n",
        "eval_set = [(x_train, y_train), (x_test, y_test.values.ravel())]\n",
        "model.fit(x_train, y_train.values.ravel(), eval_metric=\"error\", eval_set=eval_set, verbose=True) # verbose gibt error pro Validierungsrunde, early_stopping_rounds=10 gibt automatischen stop nach 10 nicht besseren Iterationen"
      ],
      "execution_count": 0,
      "outputs": []
    },
    {
      "cell_type": "markdown",
      "metadata": {
        "id": "4jIrzs3Mhqy3",
        "colab_type": "text"
      },
      "source": [
        "Unser Modell gibt uns jetzt eine Menge output.\n",
        "Wir haben XGBoost gesagt, es soll in 10 iterationen das Modell am besten Trainieren, sodass es möglichst gut die Daten Klassifiziert.\n",
        "\n",
        "Jetzt müssen wir nur noch schauen, ob das errechnete Modell auch die Testdaten gut vorhersagt. Diese Vorhersage vergleichen wir mit den Testdaten. Herauskommen und schauen uns nicht nur an, wie häufig"
      ]
    },
    {
      "cell_type": "code",
      "metadata": {
        "id": "Esj_Hv_bp0vo",
        "colab_type": "code",
        "colab": {}
      },
      "source": [
        "y_pred = model.predict(x_test)\n",
        "\t\n",
        "# Evaluieren wir die Vorhersage\n",
        "accuracy = accuracy_score(y_test, y_pred)\n",
        "cm_results=confusion_matrix(y_test, y_pred).ravel()\n",
        "\n",
        "print(\"Korrekt Abgelehnt (true negatives):     \" + str(cm_results[0]))\n",
        "print(\"Fälschlich Abgelehnt (false negatives): \" + str(cm_results[2]))\n",
        "print(\"Korrekt Erkannt (true positives):       \" + str(cm_results[3]))\n",
        "print(\"Fälschlich Erkannt (false positives):   \" + str(cm_results[1]))\n"
      ],
      "execution_count": 0,
      "outputs": []
    },
    {
      "cell_type": "code",
      "metadata": {
        "id": "ItZzpDU14nQK",
        "colab_type": "code",
        "colab": {}
      },
      "source": [
        ""
      ],
      "execution_count": 0,
      "outputs": []
    }
  ]
}